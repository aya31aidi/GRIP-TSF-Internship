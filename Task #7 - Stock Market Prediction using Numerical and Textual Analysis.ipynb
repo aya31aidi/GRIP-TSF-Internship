{
 "cells": [
  {
   "cell_type": "code",
   "execution_count": 3,
   "metadata": {},
   "outputs": [
    {
     "name": "stderr",
     "output_type": "stream",
     "text": [
      "[*********************100%%**********************]  1 of 1 completed\n"
     ]
    },
    {
     "data": {
      "text/html": [
       "<div>\n",
       "<style scoped>\n",
       "    .dataframe tbody tr th:only-of-type {\n",
       "        vertical-align: middle;\n",
       "    }\n",
       "\n",
       "    .dataframe tbody tr th {\n",
       "        vertical-align: top;\n",
       "    }\n",
       "\n",
       "    .dataframe thead th {\n",
       "        text-align: right;\n",
       "    }\n",
       "</style>\n",
       "<table border=\"1\" class=\"dataframe\">\n",
       "  <thead>\n",
       "    <tr style=\"text-align: right;\">\n",
       "      <th></th>\n",
       "      <th>Open</th>\n",
       "      <th>High</th>\n",
       "      <th>Low</th>\n",
       "      <th>Close</th>\n",
       "      <th>Adj Close</th>\n",
       "      <th>Volume</th>\n",
       "    </tr>\n",
       "    <tr>\n",
       "      <th>Date</th>\n",
       "      <th></th>\n",
       "      <th></th>\n",
       "      <th></th>\n",
       "      <th></th>\n",
       "      <th></th>\n",
       "      <th></th>\n",
       "    </tr>\n",
       "  </thead>\n",
       "  <tbody>\n",
       "    <tr>\n",
       "      <th>2010-01-04</th>\n",
       "      <td>17473.449219</td>\n",
       "      <td>17582.839844</td>\n",
       "      <td>17378.380859</td>\n",
       "      <td>17558.730469</td>\n",
       "      <td>17558.730469</td>\n",
       "      <td>28200</td>\n",
       "    </tr>\n",
       "    <tr>\n",
       "      <th>2010-01-05</th>\n",
       "      <td>17555.769531</td>\n",
       "      <td>17729.779297</td>\n",
       "      <td>17555.769531</td>\n",
       "      <td>17686.240234</td>\n",
       "      <td>17686.240234</td>\n",
       "      <td>27000</td>\n",
       "    </tr>\n",
       "    <tr>\n",
       "      <th>2010-01-06</th>\n",
       "      <td>17719.470703</td>\n",
       "      <td>17790.330078</td>\n",
       "      <td>17636.710938</td>\n",
       "      <td>17701.130859</td>\n",
       "      <td>17701.130859</td>\n",
       "      <td>21400</td>\n",
       "    </tr>\n",
       "    <tr>\n",
       "      <th>2010-01-07</th>\n",
       "      <td>17701.970703</td>\n",
       "      <td>17733.339844</td>\n",
       "      <td>17566.539062</td>\n",
       "      <td>17615.720703</td>\n",
       "      <td>17615.720703</td>\n",
       "      <td>18000</td>\n",
       "    </tr>\n",
       "    <tr>\n",
       "      <th>2010-01-08</th>\n",
       "      <td>17603.869141</td>\n",
       "      <td>17658.119141</td>\n",
       "      <td>17508.960938</td>\n",
       "      <td>17540.289062</td>\n",
       "      <td>17540.289062</td>\n",
       "      <td>17200</td>\n",
       "    </tr>\n",
       "  </tbody>\n",
       "</table>\n",
       "</div>"
      ],
      "text/plain": [
       "                    Open          High           Low         Close  \\\n",
       "Date                                                                 \n",
       "2010-01-04  17473.449219  17582.839844  17378.380859  17558.730469   \n",
       "2010-01-05  17555.769531  17729.779297  17555.769531  17686.240234   \n",
       "2010-01-06  17719.470703  17790.330078  17636.710938  17701.130859   \n",
       "2010-01-07  17701.970703  17733.339844  17566.539062  17615.720703   \n",
       "2010-01-08  17603.869141  17658.119141  17508.960938  17540.289062   \n",
       "\n",
       "               Adj Close  Volume  \n",
       "Date                              \n",
       "2010-01-04  17558.730469   28200  \n",
       "2010-01-05  17686.240234   27000  \n",
       "2010-01-06  17701.130859   21400  \n",
       "2010-01-07  17615.720703   18000  \n",
       "2010-01-08  17540.289062   17200  "
      ]
     },
     "execution_count": 3,
     "metadata": {},
     "output_type": "execute_result"
    }
   ],
   "source": [
    "import yfinance as yf\n",
    "import pandas as pd\n",
    "\n",
    "# Fetch historical cdata for SENSEX\n",
    "sensex = yf.download('^BSESN', start='2010-01-01', end='2024-06-01')\n",
    "sensex.head()\n"
   ]
  },
  {
   "cell_type": "code",
   "execution_count": 5,
   "metadata": {},
   "outputs": [
    {
     "data": {
      "text/html": [
       "<div>\n",
       "<style scoped>\n",
       "    .dataframe tbody tr th:only-of-type {\n",
       "        vertical-align: middle;\n",
       "    }\n",
       "\n",
       "    .dataframe tbody tr th {\n",
       "        vertical-align: top;\n",
       "    }\n",
       "\n",
       "    .dataframe thead th {\n",
       "        text-align: right;\n",
       "    }\n",
       "</style>\n",
       "<table border=\"1\" class=\"dataframe\">\n",
       "  <thead>\n",
       "    <tr style=\"text-align: right;\">\n",
       "      <th></th>\n",
       "      <th>publish_date</th>\n",
       "      <th>headline_category</th>\n",
       "      <th>headline_text</th>\n",
       "    </tr>\n",
       "  </thead>\n",
       "  <tbody>\n",
       "    <tr>\n",
       "      <th>0</th>\n",
       "      <td>20010102</td>\n",
       "      <td>unknown</td>\n",
       "      <td>Status quo will not be disturbed at Ayodhya; s...</td>\n",
       "    </tr>\n",
       "    <tr>\n",
       "      <th>1</th>\n",
       "      <td>20010102</td>\n",
       "      <td>unknown</td>\n",
       "      <td>Fissures in Hurriyat over Pak visit</td>\n",
       "    </tr>\n",
       "    <tr>\n",
       "      <th>2</th>\n",
       "      <td>20010102</td>\n",
       "      <td>unknown</td>\n",
       "      <td>America's unwanted heading for India?</td>\n",
       "    </tr>\n",
       "    <tr>\n",
       "      <th>3</th>\n",
       "      <td>20010102</td>\n",
       "      <td>unknown</td>\n",
       "      <td>For bigwigs; it is destination Goa</td>\n",
       "    </tr>\n",
       "    <tr>\n",
       "      <th>4</th>\n",
       "      <td>20010102</td>\n",
       "      <td>unknown</td>\n",
       "      <td>Extra buses to clear tourist traffic</td>\n",
       "    </tr>\n",
       "  </tbody>\n",
       "</table>\n",
       "</div>"
      ],
      "text/plain": [
       "   publish_date headline_category  \\\n",
       "0      20010102           unknown   \n",
       "1      20010102           unknown   \n",
       "2      20010102           unknown   \n",
       "3      20010102           unknown   \n",
       "4      20010102           unknown   \n",
       "\n",
       "                                       headline_text  \n",
       "0  Status quo will not be disturbed at Ayodhya; s...  \n",
       "1                Fissures in Hurriyat over Pak visit  \n",
       "2              America's unwanted heading for India?  \n",
       "3                 For bigwigs; it is destination Goa  \n",
       "4               Extra buses to clear tourist traffic  "
      ]
     },
     "execution_count": 5,
     "metadata": {},
     "output_type": "execute_result"
    }
   ],
   "source": [
    "import requests\n",
    "import zipfile\n",
    "from io import BytesIO\n",
    "\n",
    "# Load the data into a dataframe\n",
    "news_df = pd.read_csv('C:/Users/LENOVO/Downloads/india-news-headlines.csv')\n",
    "news_df.head()\n"
   ]
  },
  {
   "cell_type": "code",
   "execution_count": 6,
   "metadata": {},
   "outputs": [
    {
     "name": "stdout",
     "output_type": "stream",
     "text": [
      "  publish_date headline_category  \\\n",
      "0   2001-01-02           unknown   \n",
      "1   2001-01-02           unknown   \n",
      "2   2001-01-02           unknown   \n",
      "3   2001-01-02           unknown   \n",
      "4   2001-01-02           unknown   \n",
      "\n",
      "                                       headline_text  \n",
      "0  Status quo will not be disturbed at Ayodhya; s...  \n",
      "1                Fissures in Hurriyat over Pak visit  \n",
      "2              America's unwanted heading for India?  \n",
      "3                 For bigwigs; it is destination Goa  \n",
      "4               Extra buses to clear tourist traffic  \n",
      "  publish_date                                      headline_text\n",
      "0   2001-01-02  Status quo will not be disturbed at Ayodhya; s...\n",
      "1   2001-01-03  Powerless north India gropes in the dark Think...\n",
      "2   2001-01-04  The string that pulled Stephen Hawking to Indi...\n",
      "3   2001-01-05  Light combat craft takes India into club class...\n",
      "4   2001-01-06  Light combat craft takes India into club class...\n"
     ]
    }
   ],
   "source": [
    "# Convert 'publish_date' to datetime format\n",
    "news_df['publish_date'] = pd.to_datetime(news_df['publish_date'], format='%Y%m%d')\n",
    "\n",
    "# Check the updated dataframe\n",
    "print(news_df.head())\n",
    "\n",
    "# Aggregate headlines by date and concatenate them into a single string\n",
    "news_aggregated = news_df.groupby('publish_date')['headline_text'].apply(lambda x: ' '.join(x)).reset_index()\n",
    "\n",
    "# Display the aggregated news dataframe\n",
    "print(news_aggregated.head())\n"
   ]
  },
  {
   "cell_type": "markdown",
   "metadata": {},
   "source": [
    "Perform Sentiment Analysis with TextBlob"
   ]
  },
  {
   "cell_type": "code",
   "execution_count": 10,
   "metadata": {},
   "outputs": [
    {
     "data": {
      "text/plain": [
       "(7717, 2)"
      ]
     },
     "execution_count": 10,
     "metadata": {},
     "output_type": "execute_result"
    }
   ],
   "source": [
    "news_aggregated.shape"
   ]
  },
  {
   "cell_type": "code",
   "execution_count": 12,
   "metadata": {},
   "outputs": [
    {
     "name": "stdout",
     "output_type": "stream",
     "text": [
      "  publish_date                                      headline_text  Sentiment\n",
      "0   2001-01-02  Status quo will not be disturbed at Ayodhya; s...   0.151333\n",
      "1   2001-01-03  Powerless north India gropes in the dark Think...   0.088462\n",
      "2   2001-01-04  The string that pulled Stephen Hawking to Indi...   0.087961\n",
      "3   2001-01-05  Light combat craft takes India into club class...   0.262024\n",
      "4   2001-01-06  Light combat craft takes India into club class...   0.248485\n"
     ]
    },
    {
     "name": "stderr",
     "output_type": "stream",
     "text": [
      "C:\\Users\\LENOVO\\AppData\\Local\\Temp\\ipykernel_18664\\4183234402.py:11: SettingWithCopyWarning: \n",
      "A value is trying to be set on a copy of a slice from a DataFrame.\n",
      "Try using .loc[row_indexer,col_indexer] = value instead\n",
      "\n",
      "See the caveats in the documentation: https://pandas.pydata.org/pandas-docs/stable/user_guide/indexing.html#returning-a-view-versus-a-copy\n",
      "  news_sample['Sentiment'] = news_sample['headline_text'].apply(get_textblob_sentiment)\n"
     ]
    }
   ],
   "source": [
    "from textblob import TextBlob\n",
    "\n",
    "# Function to compute sentiment scores using TextBlob\n",
    "def get_textblob_sentiment(text):\n",
    "    return TextBlob(text).sentiment.polarity\n",
    "\n",
    "# Reduce the size of the news data for quicker processing by taking only the first 1000 rows for testing\n",
    "news_sample = news_aggregated.head(7000)\n",
    "\n",
    "# Apply the function to compute sentiment for the sample\n",
    "news_sample['Sentiment'] = news_sample['headline_text'].apply(get_textblob_sentiment)\n",
    "\n",
    "# Display the sample dataframe with sentiment scores\n",
    "print(news_sample.head())\n"
   ]
  },
  {
   "cell_type": "code",
   "execution_count": 13,
   "metadata": {},
   "outputs": [
    {
     "name": "stdout",
     "output_type": "stream",
     "text": [
      "        Date          Open          High           Low         Close  \\\n",
      "0 2010-01-04  17473.449219  17582.839844  17378.380859  17558.730469   \n",
      "1 2010-01-05  17555.769531  17729.779297  17555.769531  17686.240234   \n",
      "2 2010-01-06  17719.470703  17790.330078  17636.710938  17701.130859   \n",
      "3 2010-01-07  17701.970703  17733.339844  17566.539062  17615.720703   \n",
      "4 2010-01-08  17603.869141  17658.119141  17508.960938  17540.289062   \n",
      "\n",
      "      Adj Close  Volume publish_date  \\\n",
      "0  17558.730469   28200   2010-01-04   \n",
      "1  17686.240234   27000   2010-01-05   \n",
      "2  17701.130859   21400   2010-01-06   \n",
      "3  17615.720703   18000   2010-01-07   \n",
      "4  17540.289062   17200   2010-01-08   \n",
      "\n",
      "                                       headline_text  \n",
      "0  Bebo Khan't stop loving Chor Bazaari top song ...  \n",
      "1  Women say no to one-night stands MJ's new trac...  \n",
      "2  Are ladies really THIS safe on Nagpur's buses?...  \n",
      "3  Dev Patel meets the Pintos Rahman's going gree...  \n",
      "4  Points table Bicholim fire cell saved 79 lives...  \n"
     ]
    }
   ],
   "source": [
    "# Ensure SENSEX DataFrame has a date column for merging\n",
    "sensex.reset_index(inplace=True)\n",
    "sensex['Date'] = pd.to_datetime(sensex['Date'])\n",
    "\n",
    "# Merge the two dataframes on the 'Date' and 'publish_date' columns\n",
    "merged_df = pd.merge(sensex, news_aggregated, left_on='Date', right_on='publish_date', how='inner')\n",
    "\n",
    "# Display the merged dataframe\n",
    "print(merged_df.head())\n"
   ]
  },
  {
   "cell_type": "code",
   "execution_count": 16,
   "metadata": {},
   "outputs": [
    {
     "name": "stdout",
     "output_type": "stream",
     "text": [
      "   index       Date          Open          High           Low         Close  \\\n",
      "0      0 2010-01-04  17473.449219  17582.839844  17378.380859  17558.730469   \n",
      "1      1 2010-01-05  17555.769531  17729.779297  17555.769531  17686.240234   \n",
      "2      2 2010-01-06  17719.470703  17790.330078  17636.710938  17701.130859   \n",
      "3      3 2010-01-07  17701.970703  17733.339844  17566.539062  17615.720703   \n",
      "4      4 2010-01-08  17603.869141  17658.119141  17508.960938  17540.289062   \n",
      "\n",
      "      Adj Close  Volume publish_date  \\\n",
      "0  17558.730469   28200   2010-01-04   \n",
      "1  17686.240234   27000   2010-01-05   \n",
      "2  17701.130859   21400   2010-01-06   \n",
      "3  17615.720703   18000   2010-01-07   \n",
      "4  17540.289062   17200   2010-01-08   \n",
      "\n",
      "                                       headline_text  Sentiment  \n",
      "0  Bebo Khan't stop loving Chor Bazaari top song ...   0.151333  \n",
      "1  Women say no to one-night stands MJ's new trac...   0.088462  \n",
      "2  Are ladies really THIS safe on Nagpur's buses?...   0.087961  \n",
      "3  Dev Patel meets the Pintos Rahman's going gree...   0.262024  \n",
      "4  Points table Bicholim fire cell saved 79 lives...   0.248485  \n"
     ]
    }
   ],
   "source": [
    "# Ensure SENSEX DataFrame has a date column for merging\n",
    "sensex.reset_index(inplace=True)\n",
    "sensex['Date'] = pd.to_datetime(sensex['Date'])\n",
    "\n",
    "# Merge the two dataframes on the 'Date' and 'publish_date' columns\n",
    "merged_df = pd.merge(sensex, news_aggregated, left_on='Date', right_on='publish_date', how='inner')\n",
    "\n",
    "# Add the 'Sentiment' column to merged_df from news_sample\n",
    "merged_df['Sentiment'] = news_sample['Sentiment']\n",
    "\n",
    "# Display the merged dataframe\n",
    "print(merged_df.head())\n"
   ]
  },
  {
   "cell_type": "code",
   "execution_count": 17,
   "metadata": {},
   "outputs": [
    {
     "name": "stdout",
     "output_type": "stream",
     "text": [
      "RMSE: 33.46134862582406\n",
      "MAE: 15.470295888704404\n"
     ]
    },
    {
     "name": "stderr",
     "output_type": "stream",
     "text": [
      "c:\\Users\\LENOVO\\AppData\\Local\\Programs\\Python\\Python311\\Lib\\site-packages\\sklearn\\metrics\\_regression.py:492: FutureWarning: 'squared' is deprecated in version 1.4 and will be removed in 1.6. To calculate the root mean squared error, use the function'root_mean_squared_error'.\n",
      "  warnings.warn(\n"
     ]
    }
   ],
   "source": [
    "from sklearn.model_selection import train_test_split\n",
    "from sklearn.ensemble import RandomForestRegressor\n",
    "from sklearn.metrics import mean_squared_error, mean_absolute_error\n",
    "\n",
    "# Select features and target variable\n",
    "features = merged_df[['Open', 'High', 'Low', 'Close', 'Volume', 'Sentiment']]\n",
    "target = merged_df['Close']\n",
    "\n",
    "# Split the data into training and testing sets\n",
    "X_train, X_test, y_train, y_test = train_test_split(features, target, test_size=0.2, random_state=42)\n",
    "\n",
    "# Train a Random Forest model\n",
    "model = RandomForestRegressor(n_estimators=100, random_state=42)\n",
    "model.fit(X_train, y_train)\n",
    "\n",
    "# Make predictions\n",
    "y_pred = model.predict(X_test)\n",
    "\n",
    "# Evaluate the model\n",
    "rmse = mean_squared_error(y_test, y_pred, squared=False)\n",
    "mae = mean_absolute_error(y_test, y_pred)\n",
    "print(f'RMSE: {rmse}')\n",
    "print(f'MAE: {mae}')\n"
   ]
  },
  {
   "cell_type": "code",
   "execution_count": 19,
   "metadata": {},
   "outputs": [
    {
     "data": {
      "image/png": "[encoded data removed]",
      "text/plain": [
       "<Figure size 1000x600 with 1 Axes>"
      ]
     },
     "metadata": {},
     "output_type": "display_data"
    },
    {
     "data": {
      "image/png": "[encoded data removed]",
      "text/plain": [
       "<Figure size 1000x600 with 1 Axes>"
      ]
     },
     "metadata": {},
     "output_type": "display_data"
    }
   ],
   "source": [
    "import matplotlib.pyplot as plt\n",
    "import seaborn as sns\n",
    "\n",
    "# Plotting actual vs. predicted stock prices\n",
    "plt.figure(figsize=(10, 6))\n",
    "plt.scatter(y_test, y_pred, color='blue', alpha=0.5)\n",
    "plt.plot([min(y_test), max(y_test)], [min(y_test), max(y_test)], '--k', lw=2)\n",
    "plt.title('Actual vs. Predicted Stock Prices')\n",
    "plt.xlabel('Actual Price')\n",
    "plt.ylabel('Predicted Price')\n",
    "plt.grid(True)\n",
    "plt.show()\n",
    "\n",
    "# Feature Importance Plot\n",
    "feature_importance = model.feature_importances_\n",
    "feature_names = features.columns\n",
    "sorted_idx = feature_importance.argsort()\n",
    "\n",
    "plt.figure(figsize=(10, 6))\n",
    "plt.barh(range(len(sorted_idx)), feature_importance[sorted_idx], align='center')\n",
    "plt.yticks(range(len(sorted_idx)), [feature_names[i] for i in sorted_idx])\n",
    "plt.xlabel('Feature Importance')\n",
    "plt.title('Random Forest Feature Importance')\n",
    "plt.show()\n"
   ]
  },
  {
   "cell_type": "code",
   "execution_count": 20,
   "metadata": {},
   "outputs": [
    {
     "name": "stdout",
     "output_type": "stream",
     "text": [
      "Mean MSE: 23955274.77019463\n",
      "Standard Deviation of MSE: 47858497.1631567\n"
     ]
    }
   ],
   "source": [
    "from sklearn.model_selection import cross_val_score\n",
    "\n",
    "# Perform k-fold cross-validation\n",
    "scores = cross_val_score(model, features, target, cv=5, scoring='neg_mean_squared_error')\n",
    "\n",
    "# Convert scores to positive values\n",
    "mse_scores = -scores\n",
    "\n",
    "# Calculate the mean and standard deviation of the MSE scores\n",
    "mean_mse = mse_scores.mean()\n",
    "std_mse = mse_scores.std()\n",
    "\n",
    "# Print the results\n",
    "print(f'Mean MSE: {mean_mse}')\n",
    "print(f'Standard Deviation of MSE: {std_mse}')\n"
   ]
  },
  {
   "cell_type": "code",
   "execution_count": 22,
   "metadata": {},
   "outputs": [
    {
     "name": "stdout",
     "output_type": "stream",
     "text": [
      "Testing MSE: 1119.6618518589378\n",
      "Testing MAE: 15.470295888704404\n"
     ]
    }
   ],
   "source": [
    "from sklearn.metrics import mean_squared_error, mean_absolute_error\n",
    "\n",
    "# Make predictions on the testing set\n",
    "y_pred_test = model.predict(X_test)\n",
    "\n",
    "# Calculate MSE and MAE\n",
    "mse_test = mean_squared_error(y_test, y_pred_test)\n",
    "mae_test = mean_absolute_error(y_test, y_pred_test)\n",
    "\n",
    "# Print the results\n",
    "print(f'Testing MSE: {mse_test}')\n",
    "print(f'Testing MAE: {mae_test}')\n"
   ]
  }
 ],
 "metadata": {
  "kernelspec": {
   "display_name": "Python 3",
   "language": "python",
   "name": "python3"
  },
  "language_info": {
   "codemirror_mode": {
    "name": "ipython",
    "version": 3
   },
   "file_extension": ".py",
   "mimetype": "text/x-python",
   "name": "python",
   "nbconvert_exporter": "python",
   "pygments_lexer": "ipython3",
   "version": "3.11.4"
  }
 },
 "nbformat": 4,
 "nbformat_minor": 2
}
